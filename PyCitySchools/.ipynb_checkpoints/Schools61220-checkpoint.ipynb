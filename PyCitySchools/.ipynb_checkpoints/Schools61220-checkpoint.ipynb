{
 "cells": [
  {
   "cell_type": "markdown",
   "metadata": {},
   "source": [
    "### Note\n",
    "* Instructions have been included for each segment. You do not have to follow them exactly, but they are included to help you think through the steps."
   ]
  },
  {
   "cell_type": "code",
   "execution_count": 1,
   "metadata": {},
   "outputs": [
    {
     "data": {
      "text/plain": [
       "<bound method NDFrame.head of        Student ID       student_name gender grade         school_name  \\\n",
       "0               0       Paul Bradley      M   9th   Huang High School   \n",
       "1               1       Victor Smith      M  12th   Huang High School   \n",
       "2               2    Kevin Rodriguez      M  12th   Huang High School   \n",
       "3               3  Dr. Richard Scott      M  12th   Huang High School   \n",
       "4               4         Bonnie Ray      F   9th   Huang High School   \n",
       "...           ...                ...    ...   ...                 ...   \n",
       "39165       39165       Donna Howard      F  12th  Thomas High School   \n",
       "39166       39166          Dawn Bell      F  10th  Thomas High School   \n",
       "39167       39167     Rebecca Tanner      F   9th  Thomas High School   \n",
       "39168       39168       Desiree Kidd      F  10th  Thomas High School   \n",
       "39169       39169    Carolyn Jackson      F  11th  Thomas High School   \n",
       "\n",
       "       reading_score  math_score  School ID      type  size   budget  \n",
       "0                 66          79          0  District  2917  1910635  \n",
       "1                 94          61          0  District  2917  1910635  \n",
       "2                 90          60          0  District  2917  1910635  \n",
       "3                 67          58          0  District  2917  1910635  \n",
       "4                 97          84          0  District  2917  1910635  \n",
       "...              ...         ...        ...       ...   ...      ...  \n",
       "39165             99          90         14   Charter  1635  1043130  \n",
       "39166             95          70         14   Charter  1635  1043130  \n",
       "39167             73          84         14   Charter  1635  1043130  \n",
       "39168             99          90         14   Charter  1635  1043130  \n",
       "39169             95          75         14   Charter  1635  1043130  \n",
       "\n",
       "[39170 rows x 11 columns]>"
      ]
     },
     "execution_count": 1,
     "metadata": {},
     "output_type": "execute_result"
    }
   ],
   "source": [
    "# Dependencies and Setup\n",
    "import pandas as pd\n",
    "\n",
    "# File to Load (Remember to Change These)\n",
    "school_data_to_load = \"Resources/schools_complete.csv\"\n",
    "student_data_to_load = \"Resources/students_complete.csv\"\n",
    "\n",
    "# Read School and Student Data File and store into Pandas DataFrames\n",
    "school_data = pd.read_csv(school_data_to_load)\n",
    "student_data = pd.read_csv(student_data_to_load)\n",
    "\n",
    "# Combine the data into a single dataset.  \n",
    "school_data_complete = pd.merge(student_data, school_data, how=\"left\", on=[\"school_name\", \"school_name\"])\n",
    "\n",
    "school_data_complete.head"
   ]
  },
  {
   "cell_type": "markdown",
   "metadata": {},
   "source": [
    "## District Summary\n",
    "\n",
    "* Calculate the total number of schools\n",
    "\n",
    "* Calculate the total number of students\n",
    "\n",
    "* Calculate the total budget\n",
    "\n",
    "* Calculate the average math score \n",
    "\n",
    "* Calculate the average reading score\n",
    "\n",
    "* Calculate the percentage of students with a passing math score (70 or greater)\n",
    "\n",
    "* Calculate the percentage of students with a passing reading score (70 or greater)\n",
    "\n",
    "* Calculate the percentage of students who passed math **and** reading (% Overall Passing)\n",
    "\n",
    "* Create a dataframe to hold the above results\n",
    "\n",
    "* Optional: give the displayed data cleaner formatting"
   ]
  },
  {
   "cell_type": "code",
   "execution_count": 2,
   "metadata": {},
   "outputs": [],
   "source": [
    "district = school_data_complete.groupby(['school_name'])\n",
    "schoolcount = len(district)\n",
    "totstudents = student_data[\"student_name\"].count()\n",
    "totbudget = school_data[\"budget\"].sum()\n",
    "perstubudget = totbudget/totstudents\n",
    "avgmathscore = student_data[\"math_score\"].mean()\n",
    "avgreadscore = student_data[\"reading_score\"].mean()\n",
    "\n"
   ]
  },
  {
   "cell_type": "code",
   "execution_count": 3,
   "metadata": {},
   "outputs": [],
   "source": [
    "goodmathstudents = student_data.loc[student_data[\"math_score\"] >= 70,:] \n",
    "goodmathpercent = goodmathstudents[\"student_name\"].count()/totstudents\n",
    "# goodmathpercent\n",
    "goodreadingstudents = student_data.loc[student_data[\"reading_score\"] >= 70,:]\n",
    "goodreadpercent = goodreadingstudents[\"student_name\"].count()/totstudents\n",
    "# goodreadpercent\n",
    "beststudents = student_data.loc[(student_data[\"reading_score\"] >= 70) & (student_data[\"math_score\"] >= 70),:]\n",
    "beststudentspercent = beststudents[\"student_name\"].count()/totstudents\n",
    "# beststudentspercent"
   ]
  },
  {
   "cell_type": "code",
   "execution_count": 4,
   "metadata": {},
   "outputs": [
    {
     "data": {
      "text/html": [
       "<div>\n",
       "<style scoped>\n",
       "    .dataframe tbody tr th:only-of-type {\n",
       "        vertical-align: middle;\n",
       "    }\n",
       "\n",
       "    .dataframe tbody tr th {\n",
       "        vertical-align: top;\n",
       "    }\n",
       "\n",
       "    .dataframe thead th {\n",
       "        text-align: right;\n",
       "    }\n",
       "</style>\n",
       "<table border=\"1\" class=\"dataframe\">\n",
       "  <thead>\n",
       "    <tr style=\"text-align: right;\">\n",
       "      <th></th>\n",
       "      <th>Total Number of Schools</th>\n",
       "      <th>Total Number of Students</th>\n",
       "      <th>Total Budget</th>\n",
       "      <th>Total Budget per Student</th>\n",
       "      <th>Average Math Score</th>\n",
       "      <th>Average Reading Score</th>\n",
       "      <th>Percent Passing Math</th>\n",
       "      <th>Percent Passing Reading</th>\n",
       "      <th>Percent Passing Math and Reading</th>\n",
       "    </tr>\n",
       "  </thead>\n",
       "  <tbody>\n",
       "    <tr>\n",
       "      <th>0</th>\n",
       "      <td>15</td>\n",
       "      <td>39170</td>\n",
       "      <td>24649428</td>\n",
       "      <td>629.293541</td>\n",
       "      <td>78.985371</td>\n",
       "      <td>81.87784</td>\n",
       "      <td>0.749809</td>\n",
       "      <td>0.858055</td>\n",
       "      <td>0.651723</td>\n",
       "    </tr>\n",
       "  </tbody>\n",
       "</table>\n",
       "</div>"
      ],
      "text/plain": [
       "   Total Number of Schools  Total Number of Students  Total Budget  \\\n",
       "0                       15                     39170      24649428   \n",
       "\n",
       "   Total Budget per Student  Average Math Score  Average Reading Score  \\\n",
       "0                629.293541           78.985371               81.87784   \n",
       "\n",
       "   Percent Passing Math  Percent Passing Reading  \\\n",
       "0              0.749809                 0.858055   \n",
       "\n",
       "   Percent Passing Math and Reading  \n",
       "0                          0.651723  "
      ]
     },
     "execution_count": 4,
     "metadata": {},
     "output_type": "execute_result"
    }
   ],
   "source": [
    "# Create a dataframe to hold the results of above\n",
    "\n",
    "# print(schoolcount)\n",
    "# print(totstudents)\n",
    "# print(totbudget)\n",
    "# print(perstubudget)\n",
    "# print(avgmathscore)\n",
    "# print(avgreadscore)\n",
    "# print(goodmathpercent)\n",
    "# print(goodreadpercent)\n",
    "# print(beststudentspercent)\n",
    "\n",
    "\n",
    "summary_df = pd.DataFrame({\n",
    "    \"Total Number of Schools\":[schoolcount],\n",
    "    \"Total Number of Students\":[totstudents],\n",
    "    \"Total Budget\":[totbudget],\n",
    "    \"Total Budget per Student\":[perstubudget],     \n",
    "    \"Average Math Score\":[avgmathscore],\n",
    "    \"Average Reading Score\":[avgreadscore],\n",
    "    \"Percent Passing Math\":[goodmathpercent],\n",
    "    \"Percent Passing Reading\":[goodreadpercent],\n",
    "    \"Percent Passing Math and Reading\":[beststudentspercent] \n",
    "})\n",
    "summary_df"
   ]
  },
  {
   "cell_type": "markdown",
   "metadata": {},
   "source": [
    "## School Summary"
   ]
  },
  {
   "cell_type": "markdown",
   "metadata": {},
   "source": [
    "* Create an overview table that summarizes key metrics about each school, including:\n",
    "  * School Name\n",
    "  * School Type\n",
    "  * Total Students\n",
    "  * Total School Budget\n",
    "  * Per Student Budget\n",
    "  * Average Math Score\n",
    "  * Average Reading Score\n",
    "  * % Passing Math\n",
    "  * % Passing Reading\n",
    "  * % Overall Passing (The percentage of students that passed math **and** reading.)\n",
    "  \n",
    "* Create a dataframe to hold the above results"
   ]
  },
  {
   "cell_type": "code",
   "execution_count": 13,
   "metadata": {},
   "outputs": [
    {
     "data": {
      "text/html": [
       "<div>\n",
       "<style scoped>\n",
       "    .dataframe tbody tr th:only-of-type {\n",
       "        vertical-align: middle;\n",
       "    }\n",
       "\n",
       "    .dataframe tbody tr th {\n",
       "        vertical-align: top;\n",
       "    }\n",
       "\n",
       "    .dataframe thead th {\n",
       "        text-align: right;\n",
       "    }\n",
       "</style>\n",
       "<table border=\"1\" class=\"dataframe\">\n",
       "  <thead>\n",
       "    <tr style=\"text-align: right;\">\n",
       "      <th></th>\n",
       "      <th>student_name</th>\n",
       "      <th>budget</th>\n",
       "      <th>0</th>\n",
       "      <th>1</th>\n",
       "      <th>2</th>\n",
       "      <th>3</th>\n",
       "      <th>4</th>\n",
       "      <th>5</th>\n",
       "    </tr>\n",
       "    <tr>\n",
       "      <th>school_name</th>\n",
       "      <th></th>\n",
       "      <th></th>\n",
       "      <th></th>\n",
       "      <th></th>\n",
       "      <th></th>\n",
       "      <th></th>\n",
       "      <th></th>\n",
       "      <th></th>\n",
       "    </tr>\n",
       "  </thead>\n",
       "  <tbody>\n",
       "    <tr>\n",
       "      <th>Bailey High School</th>\n",
       "      <td>4976</td>\n",
       "      <td>3124928</td>\n",
       "      <td>628.0</td>\n",
       "      <td>77.048432</td>\n",
       "      <td>81.033963</td>\n",
       "      <td>0.666801</td>\n",
       "      <td>0.819333</td>\n",
       "      <td>0.546423</td>\n",
       "    </tr>\n",
       "    <tr>\n",
       "      <th>Cabrera High School</th>\n",
       "      <td>1858</td>\n",
       "      <td>1081356</td>\n",
       "      <td>582.0</td>\n",
       "      <td>83.061895</td>\n",
       "      <td>83.975780</td>\n",
       "      <td>0.941335</td>\n",
       "      <td>0.970398</td>\n",
       "      <td>0.913348</td>\n",
       "    </tr>\n",
       "    <tr>\n",
       "      <th>Figueroa High School</th>\n",
       "      <td>2949</td>\n",
       "      <td>1884411</td>\n",
       "      <td>639.0</td>\n",
       "      <td>76.711767</td>\n",
       "      <td>81.158020</td>\n",
       "      <td>0.659885</td>\n",
       "      <td>0.807392</td>\n",
       "      <td>0.532045</td>\n",
       "    </tr>\n",
       "    <tr>\n",
       "      <th>Ford High School</th>\n",
       "      <td>2739</td>\n",
       "      <td>1763916</td>\n",
       "      <td>644.0</td>\n",
       "      <td>77.102592</td>\n",
       "      <td>80.746258</td>\n",
       "      <td>0.683096</td>\n",
       "      <td>0.792990</td>\n",
       "      <td>0.542899</td>\n",
       "    </tr>\n",
       "    <tr>\n",
       "      <th>Griffin High School</th>\n",
       "      <td>1468</td>\n",
       "      <td>917500</td>\n",
       "      <td>625.0</td>\n",
       "      <td>83.351499</td>\n",
       "      <td>83.816757</td>\n",
       "      <td>0.933924</td>\n",
       "      <td>0.971390</td>\n",
       "      <td>0.905995</td>\n",
       "    </tr>\n",
       "    <tr>\n",
       "      <th>Hernandez High School</th>\n",
       "      <td>4635</td>\n",
       "      <td>3022020</td>\n",
       "      <td>652.0</td>\n",
       "      <td>77.289752</td>\n",
       "      <td>80.934412</td>\n",
       "      <td>0.667530</td>\n",
       "      <td>0.808630</td>\n",
       "      <td>0.535275</td>\n",
       "    </tr>\n",
       "    <tr>\n",
       "      <th>Holden High School</th>\n",
       "      <td>427</td>\n",
       "      <td>248087</td>\n",
       "      <td>581.0</td>\n",
       "      <td>83.803279</td>\n",
       "      <td>83.814988</td>\n",
       "      <td>0.925059</td>\n",
       "      <td>0.962529</td>\n",
       "      <td>0.892272</td>\n",
       "    </tr>\n",
       "    <tr>\n",
       "      <th>Huang High School</th>\n",
       "      <td>2917</td>\n",
       "      <td>1910635</td>\n",
       "      <td>655.0</td>\n",
       "      <td>76.629414</td>\n",
       "      <td>81.182722</td>\n",
       "      <td>0.656839</td>\n",
       "      <td>0.813164</td>\n",
       "      <td>0.535139</td>\n",
       "    </tr>\n",
       "    <tr>\n",
       "      <th>Johnson High School</th>\n",
       "      <td>4761</td>\n",
       "      <td>3094650</td>\n",
       "      <td>650.0</td>\n",
       "      <td>77.072464</td>\n",
       "      <td>80.966394</td>\n",
       "      <td>0.660576</td>\n",
       "      <td>0.812224</td>\n",
       "      <td>0.535392</td>\n",
       "    </tr>\n",
       "    <tr>\n",
       "      <th>Pena High School</th>\n",
       "      <td>962</td>\n",
       "      <td>585858</td>\n",
       "      <td>609.0</td>\n",
       "      <td>83.839917</td>\n",
       "      <td>84.044699</td>\n",
       "      <td>0.945946</td>\n",
       "      <td>0.959459</td>\n",
       "      <td>0.905405</td>\n",
       "    </tr>\n",
       "    <tr>\n",
       "      <th>Rodriguez High School</th>\n",
       "      <td>3999</td>\n",
       "      <td>2547363</td>\n",
       "      <td>637.0</td>\n",
       "      <td>76.842711</td>\n",
       "      <td>80.744686</td>\n",
       "      <td>0.663666</td>\n",
       "      <td>0.802201</td>\n",
       "      <td>0.529882</td>\n",
       "    </tr>\n",
       "    <tr>\n",
       "      <th>Shelton High School</th>\n",
       "      <td>1761</td>\n",
       "      <td>1056600</td>\n",
       "      <td>600.0</td>\n",
       "      <td>83.359455</td>\n",
       "      <td>83.725724</td>\n",
       "      <td>0.938671</td>\n",
       "      <td>0.958546</td>\n",
       "      <td>0.898921</td>\n",
       "    </tr>\n",
       "    <tr>\n",
       "      <th>Thomas High School</th>\n",
       "      <td>1635</td>\n",
       "      <td>1043130</td>\n",
       "      <td>638.0</td>\n",
       "      <td>83.418349</td>\n",
       "      <td>83.848930</td>\n",
       "      <td>0.932722</td>\n",
       "      <td>0.973089</td>\n",
       "      <td>0.909480</td>\n",
       "    </tr>\n",
       "    <tr>\n",
       "      <th>Wilson High School</th>\n",
       "      <td>2283</td>\n",
       "      <td>1319574</td>\n",
       "      <td>578.0</td>\n",
       "      <td>83.274201</td>\n",
       "      <td>83.989488</td>\n",
       "      <td>0.938677</td>\n",
       "      <td>0.965396</td>\n",
       "      <td>0.905826</td>\n",
       "    </tr>\n",
       "    <tr>\n",
       "      <th>Wright High School</th>\n",
       "      <td>1800</td>\n",
       "      <td>1049400</td>\n",
       "      <td>583.0</td>\n",
       "      <td>83.682222</td>\n",
       "      <td>83.955000</td>\n",
       "      <td>0.933333</td>\n",
       "      <td>0.966111</td>\n",
       "      <td>0.903333</td>\n",
       "    </tr>\n",
       "  </tbody>\n",
       "</table>\n",
       "</div>"
      ],
      "text/plain": [
       "                       student_name   budget      0          1          2  \\\n",
       "school_name                                                                 \n",
       "Bailey High School             4976  3124928  628.0  77.048432  81.033963   \n",
       "Cabrera High School            1858  1081356  582.0  83.061895  83.975780   \n",
       "Figueroa High School           2949  1884411  639.0  76.711767  81.158020   \n",
       "Ford High School               2739  1763916  644.0  77.102592  80.746258   \n",
       "Griffin High School            1468   917500  625.0  83.351499  83.816757   \n",
       "Hernandez High School          4635  3022020  652.0  77.289752  80.934412   \n",
       "Holden High School              427   248087  581.0  83.803279  83.814988   \n",
       "Huang High School              2917  1910635  655.0  76.629414  81.182722   \n",
       "Johnson High School            4761  3094650  650.0  77.072464  80.966394   \n",
       "Pena High School                962   585858  609.0  83.839917  84.044699   \n",
       "Rodriguez High School          3999  2547363  637.0  76.842711  80.744686   \n",
       "Shelton High School            1761  1056600  600.0  83.359455  83.725724   \n",
       "Thomas High School             1635  1043130  638.0  83.418349  83.848930   \n",
       "Wilson High School             2283  1319574  578.0  83.274201  83.989488   \n",
       "Wright High School             1800  1049400  583.0  83.682222  83.955000   \n",
       "\n",
       "                              3         4         5  \n",
       "school_name                                          \n",
       "Bailey High School     0.666801  0.819333  0.546423  \n",
       "Cabrera High School    0.941335  0.970398  0.913348  \n",
       "Figueroa High School   0.659885  0.807392  0.532045  \n",
       "Ford High School       0.683096  0.792990  0.542899  \n",
       "Griffin High School    0.933924  0.971390  0.905995  \n",
       "Hernandez High School  0.667530  0.808630  0.535275  \n",
       "Holden High School     0.925059  0.962529  0.892272  \n",
       "Huang High School      0.656839  0.813164  0.535139  \n",
       "Johnson High School    0.660576  0.812224  0.535392  \n",
       "Pena High School       0.945946  0.959459  0.905405  \n",
       "Rodriguez High School  0.663666  0.802201  0.529882  \n",
       "Shelton High School    0.938671  0.958546  0.898921  \n",
       "Thomas High School     0.932722  0.973089  0.909480  \n",
       "Wilson High School     0.938677  0.965396  0.905826  \n",
       "Wright High School     0.933333  0.966111  0.903333  "
      ]
     },
     "execution_count": 13,
     "metadata": {},
     "output_type": "execute_result"
    }
   ],
   "source": [
    "studentcount = school_data_complete.groupby(\"school_name\")[\"student_name\"].count()\n",
    "schoolbudget = school_data.groupby(\"school_name\")[\"budget\"].sum()\n",
    "schoolbudgetper = school_data.groupby(\"school_name\")[\"budget\"].sum()/studentcount\n",
    "schoolavgmath = school_data_complete.groupby(\"school_name\")[\"math_score\"].sum()/studentcount\n",
    "schoolavgread = school_data_complete.groupby(\"school_name\")[\"reading_score\"].sum()/studentcount\n",
    "schoolmathpass = school_data_complete.loc[student_data['math_score']>=70, :\n",
    "                                 ].groupby('school_name')['math_score'].count()/studentcount\n",
    "\n",
    "schoolreadpass = school_data_complete.loc[student_data['reading_score']>=70, :\n",
    "                                 ].groupby('school_name')['reading_score'].count()/studentcount\n",
    "\n",
    "schoolbothpass = school_data_complete.loc[(student_data['reading_score']>=70) & (student_data['math_score']>=70), :\n",
    "                                 ].groupby('school_name')['reading_score'].count()/studentcount\n",
    "\n",
    "schools_df = pd.concat([studentcount,\n",
    "                        schoolbudget,\n",
    "                        schoolbudgetper,\n",
    "                        schoolavgmath, \n",
    "                        schoolavgread, \n",
    "                        schoolmathpass,\n",
    "                        schoolreadpass,\n",
    "                        schoolbothpass\n",
    "                       ],axis=1)\n",
    "\n",
    "\n",
    "# schools_df.reset_index(inplace=True)\n",
    "\n",
    "# schools_df = schools_df.rename(columns = {'index' : 'school_name',\n",
    "#                                           0 : 'Budget per Student',\n",
    "#                                           1 : 'Average Math Score',\n",
    "#                                           2 : 'Average Reading Score',\n",
    "#                                           3 : 'Percent Passing Math',\n",
    "#                                           4 : 'Percent Passing Reading',\n",
    "#                                           5 : 'Percent Passing Math & Reading',})\n",
    "\n",
    "schools_df\n",
    "\n",
    "# summary_schools = pd.merge(school_data, schools_df, how=\"outer\", on=[\"school_name\"])\n",
    "\n",
    "\n",
    "# summary_schools.reset_index(inplace=False)\n",
    "\n",
    "# summary_schools\n"
   ]
  },
  {
   "cell_type": "markdown",
   "metadata": {},
   "source": [
    "## Top Performing Schools (By % Overall Passing)"
   ]
  },
  {
   "cell_type": "markdown",
   "metadata": {},
   "source": [
    "* Sort and display the top five performing schools by % overall passing."
   ]
  },
  {
   "cell_type": "code",
   "execution_count": null,
   "metadata": {
    "scrolled": true
   },
   "outputs": [],
   "source": []
  },
  {
   "cell_type": "markdown",
   "metadata": {},
   "source": [
    "## Bottom Performing Schools (By % Overall Passing)"
   ]
  },
  {
   "cell_type": "markdown",
   "metadata": {},
   "source": [
    "* Sort and display the five worst-performing schools by % overall passing."
   ]
  },
  {
   "cell_type": "code",
   "execution_count": null,
   "metadata": {},
   "outputs": [],
   "source": []
  },
  {
   "cell_type": "markdown",
   "metadata": {
    "collapsed": true
   },
   "source": [
    "## Math Scores by Grade"
   ]
  },
  {
   "cell_type": "markdown",
   "metadata": {},
   "source": [
    "* Create a table that lists the average Reading Score for students of each grade level (9th, 10th, 11th, 12th) at each school.\n",
    "\n",
    "  * Create a pandas series for each grade. Hint: use a conditional statement.\n",
    "  \n",
    "  * Group each series by school\n",
    "  \n",
    "  * Combine the series into a dataframe\n",
    "  \n",
    "  * Optional: give the displayed data cleaner formatting"
   ]
  },
  {
   "cell_type": "code",
   "execution_count": null,
   "metadata": {},
   "outputs": [],
   "source": []
  },
  {
   "cell_type": "markdown",
   "metadata": {},
   "source": [
    "## Reading Score by Grade "
   ]
  },
  {
   "cell_type": "markdown",
   "metadata": {},
   "source": [
    "* Perform the same operations as above for reading scores"
   ]
  },
  {
   "cell_type": "code",
   "execution_count": null,
   "metadata": {},
   "outputs": [],
   "source": []
  },
  {
   "cell_type": "markdown",
   "metadata": {},
   "source": [
    "## Scores by School Spending"
   ]
  },
  {
   "cell_type": "markdown",
   "metadata": {},
   "source": [
    "* Create a table that breaks down school performances based on average Spending Ranges (Per Student). Use 4 reasonable bins to group school spending. Include in the table each of the following:\n",
    "  * Average Math Score\n",
    "  * Average Reading Score\n",
    "  * % Passing Math\n",
    "  * % Passing Reading\n",
    "  * Overall Passing Rate (Average of the above two)"
   ]
  },
  {
   "cell_type": "code",
   "execution_count": null,
   "metadata": {},
   "outputs": [],
   "source": []
  },
  {
   "cell_type": "markdown",
   "metadata": {},
   "source": [
    "## Scores by School Size"
   ]
  },
  {
   "cell_type": "markdown",
   "metadata": {},
   "source": [
    "* Perform the same operations as above, based on school size."
   ]
  },
  {
   "cell_type": "code",
   "execution_count": null,
   "metadata": {
    "scrolled": true
   },
   "outputs": [],
   "source": []
  },
  {
   "cell_type": "markdown",
   "metadata": {},
   "source": [
    "## Scores by School Type"
   ]
  },
  {
   "cell_type": "markdown",
   "metadata": {},
   "source": [
    "* Perform the same operations as above, based on school type"
   ]
  },
  {
   "cell_type": "code",
   "execution_count": null,
   "metadata": {},
   "outputs": [],
   "source": []
  },
  {
   "cell_type": "code",
   "execution_count": null,
   "metadata": {},
   "outputs": [],
   "source": []
  }
 ],
 "metadata": {
  "anaconda-cloud": {},
  "kernel_info": {
   "name": "python3"
  },
  "kernelspec": {
   "display_name": "Python 3",
   "language": "python",
   "name": "python3"
  },
  "language_info": {
   "codemirror_mode": {
    "name": "ipython",
    "version": 3
   },
   "file_extension": ".py",
   "mimetype": "text/x-python",
   "name": "python",
   "nbconvert_exporter": "python",
   "pygments_lexer": "ipython3",
   "version": "3.6.10"
  },
  "latex_envs": {
   "LaTeX_envs_menu_present": true,
   "autoclose": false,
   "autocomplete": true,
   "bibliofile": "biblio.bib",
   "cite_by": "apalike",
   "current_citInitial": 1,
   "eqLabelWithNumbers": true,
   "eqNumInitial": 1,
   "hotkeys": {
    "equation": "Ctrl-E",
    "itemize": "Ctrl-I"
   },
   "labels_anchors": false,
   "latex_user_defs": false,
   "report_style_numbering": false,
   "user_envs_cfg": false
  },
  "nteract": {
   "version": "0.8.4"
  }
 },
 "nbformat": 4,
 "nbformat_minor": 1
}
