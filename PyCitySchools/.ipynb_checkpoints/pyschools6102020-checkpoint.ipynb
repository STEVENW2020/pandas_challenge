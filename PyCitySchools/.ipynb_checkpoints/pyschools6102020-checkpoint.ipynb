{
 "cells": [
  {
   "cell_type": "markdown",
   "metadata": {},
   "source": [
    "### Note\n",
    "* Instructions have been included for each segment. You do not have to follow them exactly, but they are included to help you think through the steps."
   ]
  },
  {
   "cell_type": "code",
   "execution_count": 1,
   "metadata": {},
   "outputs": [
    {
     "data": {
      "text/plain": [
       "<bound method NDFrame.head of        Student ID       student_name gender grade         school_name  \\\n",
       "0             0.0       Paul Bradley      M   9th   Huang High School   \n",
       "1             1.0       Victor Smith      M  12th   Huang High School   \n",
       "2             2.0    Kevin Rodriguez      M  12th   Huang High School   \n",
       "3             3.0  Dr. Richard Scott      M  12th   Huang High School   \n",
       "4             4.0         Bonnie Ray      F   9th   Huang High School   \n",
       "...           ...                ...    ...   ...                 ...   \n",
       "39167     39167.0     Rebecca Tanner      F   9th  Thomas High School   \n",
       "39168     39168.0       Desiree Kidd      F  10th  Thomas High School   \n",
       "39169     39169.0    Carolyn Jackson      F  11th  Thomas High School   \n",
       "39170         NaN                NaN    NaN   NaN                 NaN   \n",
       "39171         NaN                NaN    NaN   NaN                 NaN   \n",
       "\n",
       "       reading_score  math_score       reading          math          both  \\\n",
       "0               66.0        79.0      0.000000      1.000000      0.000000   \n",
       "1               94.0        61.0      1.000000      0.000000      0.000000   \n",
       "2               90.0        60.0      1.000000      0.000000      0.000000   \n",
       "3               67.0        58.0      0.000000      0.000000      0.000000   \n",
       "4               97.0        84.0      1.000000      1.000000      1.000000   \n",
       "...              ...         ...           ...           ...           ...   \n",
       "39167           73.0        84.0      1.000000      1.000000      1.000000   \n",
       "39168           99.0        90.0      1.000000      1.000000      1.000000   \n",
       "39169           95.0        75.0      1.000000      1.000000      1.000000   \n",
       "39170            NaN     39170.0  33610.000000  29370.000000  25528.000000   \n",
       "39171            NaN         NaN      0.858055      0.749809      0.651723   \n",
       "\n",
       "       School ID      type    size     budget  \n",
       "0            0.0  District  2917.0  1910635.0  \n",
       "1            0.0  District  2917.0  1910635.0  \n",
       "2            0.0  District  2917.0  1910635.0  \n",
       "3            0.0  District  2917.0  1910635.0  \n",
       "4            0.0  District  2917.0  1910635.0  \n",
       "...          ...       ...     ...        ...  \n",
       "39167       14.0   Charter  1635.0  1043130.0  \n",
       "39168       14.0   Charter  1635.0  1043130.0  \n",
       "39169       14.0   Charter  1635.0  1043130.0  \n",
       "39170        NaN       NaN     NaN        NaN  \n",
       "39171        NaN       NaN     NaN        NaN  \n",
       "\n",
       "[39172 rows x 14 columns]>"
      ]
     },
     "execution_count": 1,
     "metadata": {},
     "output_type": "execute_result"
    }
   ],
   "source": [
    "# Dependencies and Setup\n",
    "import pandas as pd\n",
    "\n",
    "# File to Load (Remember to Change These)\n",
    "school_data_to_load = \"Resources/schools_complete.csv\"\n",
    "student_data_to_load = \"Resources/students_complete.csv\"\n",
    "\n",
    "# Read School and Student Data File and store into Pandas DataFrames\n",
    "school_data = pd.read_csv(school_data_to_load)\n",
    "student_data = pd.read_csv(student_data_to_load)\n",
    "\n",
    "# Combine the data into a single dataset.  \n",
    "school_data_complete = pd.merge(student_data, school_data, how=\"left\", on=[\"school_name\", \"school_name\"])\n",
    "\n",
    "school_data_complete.head"
   ]
  },
  {
   "cell_type": "markdown",
   "metadata": {},
   "source": [
    "## District Summary\n",
    "\n",
    "* Calculate the total number of schools\n",
    "\n",
    "* Calculate the total number of students\n",
    "\n",
    "* Calculate the total budget\n",
    "\n",
    "* Calculate the average math score \n",
    "\n",
    "* Calculate the average reading score\n",
    "\n",
    "* Calculate the percentage of students with a passing math score (70 or greater)\n",
    "\n",
    "* Calculate the percentage of students with a passing reading score (70 or greater)\n",
    "\n",
    "* Calculate the percentage of students who passed math **and** reading (% Overall Passing)\n",
    "\n",
    "* Create a dataframe to hold the above results\n",
    "\n",
    "* Optional: give the displayed data cleaner formatting"
   ]
  },
  {
   "cell_type": "code",
   "execution_count": 2,
   "metadata": {},
   "outputs": [],
   "source": [
    "district = school_data_complete.groupby(['school_name'])\n",
    "schoolcount = len(district)\n",
    "totstudents = school_data_complete[\"student_name\"].count()\n",
    "totbudget = school_data[\"budget\"].sum()\n",
    "perstubudget = totbudget/totstudents\n",
    "avgmathscore = student_data[\"math_score\"].mean()\n",
    "avgreadscore = student_data[\"reading_score\"].mean()\n",
    "passmathscore = student_data[\"math_score\"].mean()\n",
    "# schoolcount\n",
    "# totstudents\n",
    "# totbudget\n",
    "# perstubudget\n",
    "# avgmathscore\n",
    "# avgreadscore"
   ]
  },
  {
   "cell_type": "code",
   "execution_count": 3,
   "metadata": {},
   "outputs": [
    {
     "data": {
      "text/plain": [
       "0.6517232575950983"
      ]
     },
     "execution_count": 3,
     "metadata": {},
     "output_type": "execute_result"
    }
   ],
   "source": [
    "goodmathstudents = student_data.loc[student_data[\"math_score\"] >= 70,:] \n",
    "goodmathpercent = goodmathstudents[\"student_name\"].count()/totstudents\n",
    "# goodmathpercent\n",
    "goodreadingstudents = student_data.loc[student_data[\"reading_score\"] >= 70,:]\n",
    "goodreadpercent = goodreadingstudents[\"student_name\"].count()/totstudents\n",
    "# goodreadpercent\n",
    "beststudents = student_data.loc[(student_data[\"reading_score\"] >= 70) & (student_data[\"math_score\"] >= 70),:]\n",
    "beststudentspercent = beststudents[\"student_name\"].count()/totstudents\n",
    "beststudentspercent"
   ]
  },
  {
   "cell_type": "code",
   "execution_count": 5,
   "metadata": {},
   "outputs": [
    {
     "name": "stdout",
     "output_type": "stream",
     "text": [
      "15\n",
      "39170\n",
      "24649428\n",
      "629.2935409752362\n",
      "79.98332950396977\n",
      "81.87784018381414\n",
      "0.749808526933878\n",
      "0.8580546336482001\n",
      "0.6517232575950983\n"
     ]
    },
    {
     "data": {
      "text/html": [
       "<div>\n",
       "<style scoped>\n",
       "    .dataframe tbody tr th:only-of-type {\n",
       "        vertical-align: middle;\n",
       "    }\n",
       "\n",
       "    .dataframe tbody tr th {\n",
       "        vertical-align: top;\n",
       "    }\n",
       "\n",
       "    .dataframe thead th {\n",
       "        text-align: right;\n",
       "    }\n",
       "</style>\n",
       "<table border=\"1\" class=\"dataframe\">\n",
       "  <thead>\n",
       "    <tr style=\"text-align: right;\">\n",
       "      <th></th>\n",
       "      <th>Total Number of Schools</th>\n",
       "      <th>Total Number of Students</th>\n",
       "      <th>Total Budget</th>\n",
       "      <th>Total Budget per Student</th>\n",
       "      <th>Average Math Score</th>\n",
       "      <th>Average Reading Score</th>\n",
       "      <th>Percent Passing Math</th>\n",
       "      <th>Percent Passing Reading</th>\n",
       "      <th>Percent Passing Math and Reading</th>\n",
       "    </tr>\n",
       "  </thead>\n",
       "  <tbody>\n",
       "    <tr>\n",
       "      <th>0</th>\n",
       "      <td>15</td>\n",
       "      <td>39170</td>\n",
       "      <td>24649428</td>\n",
       "      <td>629.293541</td>\n",
       "      <td>79.98333</td>\n",
       "      <td>81.87784</td>\n",
       "      <td>0.749809</td>\n",
       "      <td>0.858055</td>\n",
       "      <td>0.651723</td>\n",
       "    </tr>\n",
       "  </tbody>\n",
       "</table>\n",
       "</div>"
      ],
      "text/plain": [
       "   Total Number of Schools  Total Number of Students  Total Budget  \\\n",
       "0                       15                     39170      24649428   \n",
       "\n",
       "   Total Budget per Student  Average Math Score  Average Reading Score  \\\n",
       "0                629.293541            79.98333               81.87784   \n",
       "\n",
       "   Percent Passing Math  Percent Passing Reading  \\\n",
       "0              0.749809                 0.858055   \n",
       "\n",
       "   Percent Passing Math and Reading  \n",
       "0                          0.651723  "
      ]
     },
     "execution_count": 5,
     "metadata": {},
     "output_type": "execute_result"
    }
   ],
   "source": [
    "# Create a dataframe to hold the results of above\n",
    "\n",
    "print(schoolcount)\n",
    "print(totstudents)\n",
    "print(totbudget)\n",
    "print(perstubudget)\n",
    "print(avgmathscore)\n",
    "print(avgreadscore)\n",
    "print(goodmathpercent)\n",
    "print(goodreadpercent)\n",
    "print(beststudentspercent)\n",
    "\n",
    "\n",
    "summary_df = pd.DataFrame({\n",
    "    \"Total Number of Schools\":[schoolcount],\n",
    "    \"Total Number of Students\":[totstudents],\n",
    "    \"Total Budget\":[totbudget],\n",
    "    \"Total Budget per Student\":[perstubudget],     \n",
    "    \"Average Math Score\":[avgmathscore],\n",
    "    \"Average Reading Score\":[avgreadscore],\n",
    "    \"Percent Passing Math\":[goodmathpercent],\n",
    "    \"Percent Passing Reading\":[goodreadpercent],\n",
    "    \"Percent Passing Math and Reading\":[beststudentspercent] \n",
    "})\n",
    "summary_df"
   ]
  },
  {
   "cell_type": "markdown",
   "metadata": {},
   "source": [
    "## School Summary"
   ]
  },
  {
   "cell_type": "markdown",
   "metadata": {},
   "source": [
    "* Create an overview table that summarizes key metrics about each school, including:\n",
    "  * School Name\n",
    "  * School Type\n",
    "  * Total Students\n",
    "  * Total School Budget\n",
    "  * Per Student Budget\n",
    "  * Average Math Score\n",
    "  * Average Reading Score\n",
    "  * % Passing Math\n",
    "  * % Passing Reading\n",
    "  * % Overall Passing (The percentage of students that passed math **and** reading.)\n",
    "  \n",
    "* Create a dataframe to hold the above results"
   ]
  },
  {
   "cell_type": "code",
   "execution_count": null,
   "metadata": {},
   "outputs": [],
   "source": []
  },
  {
   "cell_type": "markdown",
   "metadata": {},
   "source": [
    "## Top Performing Schools (By % Overall Passing)"
   ]
  },
  {
   "cell_type": "markdown",
   "metadata": {},
   "source": [
    "* Sort and display the top five performing schools by % overall passing."
   ]
  },
  {
   "cell_type": "code",
   "execution_count": null,
   "metadata": {
    "scrolled": true
   },
   "outputs": [],
   "source": []
  },
  {
   "cell_type": "markdown",
   "metadata": {},
   "source": [
    "## Bottom Performing Schools (By % Overall Passing)"
   ]
  },
  {
   "cell_type": "markdown",
   "metadata": {},
   "source": [
    "* Sort and display the five worst-performing schools by % overall passing."
   ]
  },
  {
   "cell_type": "code",
   "execution_count": null,
   "metadata": {},
   "outputs": [],
   "source": []
  },
  {
   "cell_type": "markdown",
   "metadata": {
    "collapsed": true
   },
   "source": [
    "## Math Scores by Grade"
   ]
  },
  {
   "cell_type": "markdown",
   "metadata": {},
   "source": [
    "* Create a table that lists the average Reading Score for students of each grade level (9th, 10th, 11th, 12th) at each school.\n",
    "\n",
    "  * Create a pandas series for each grade. Hint: use a conditional statement.\n",
    "  \n",
    "  * Group each series by school\n",
    "  \n",
    "  * Combine the series into a dataframe\n",
    "  \n",
    "  * Optional: give the displayed data cleaner formatting"
   ]
  },
  {
   "cell_type": "code",
   "execution_count": null,
   "metadata": {},
   "outputs": [],
   "source": []
  },
  {
   "cell_type": "markdown",
   "metadata": {},
   "source": [
    "## Reading Score by Grade "
   ]
  },
  {
   "cell_type": "markdown",
   "metadata": {},
   "source": [
    "* Perform the same operations as above for reading scores"
   ]
  },
  {
   "cell_type": "code",
   "execution_count": null,
   "metadata": {},
   "outputs": [],
   "source": []
  },
  {
   "cell_type": "markdown",
   "metadata": {},
   "source": [
    "## Scores by School Spending"
   ]
  },
  {
   "cell_type": "markdown",
   "metadata": {},
   "source": [
    "* Create a table that breaks down school performances based on average Spending Ranges (Per Student). Use 4 reasonable bins to group school spending. Include in the table each of the following:\n",
    "  * Average Math Score\n",
    "  * Average Reading Score\n",
    "  * % Passing Math\n",
    "  * % Passing Reading\n",
    "  * Overall Passing Rate (Average of the above two)"
   ]
  },
  {
   "cell_type": "code",
   "execution_count": null,
   "metadata": {},
   "outputs": [],
   "source": []
  },
  {
   "cell_type": "markdown",
   "metadata": {},
   "source": [
    "## Scores by School Size"
   ]
  },
  {
   "cell_type": "markdown",
   "metadata": {},
   "source": [
    "* Perform the same operations as above, based on school size."
   ]
  },
  {
   "cell_type": "code",
   "execution_count": null,
   "metadata": {
    "scrolled": true
   },
   "outputs": [],
   "source": []
  },
  {
   "cell_type": "markdown",
   "metadata": {},
   "source": [
    "## Scores by School Type"
   ]
  },
  {
   "cell_type": "markdown",
   "metadata": {},
   "source": [
    "* Perform the same operations as above, based on school type"
   ]
  },
  {
   "cell_type": "code",
   "execution_count": null,
   "metadata": {},
   "outputs": [],
   "source": []
  },
  {
   "cell_type": "code",
   "execution_count": null,
   "metadata": {},
   "outputs": [],
   "source": []
  }
 ],
 "metadata": {
  "anaconda-cloud": {},
  "kernel_info": {
   "name": "python3"
  },
  "kernelspec": {
   "display_name": "Python 3",
   "language": "python",
   "name": "python3"
  },
  "language_info": {
   "codemirror_mode": {
    "name": "ipython",
    "version": 3
   },
   "file_extension": ".py",
   "mimetype": "text/x-python",
   "name": "python",
   "nbconvert_exporter": "python",
   "pygments_lexer": "ipython3",
   "version": "3.6.10"
  },
  "latex_envs": {
   "LaTeX_envs_menu_present": true,
   "autoclose": false,
   "autocomplete": true,
   "bibliofile": "biblio.bib",
   "cite_by": "apalike",
   "current_citInitial": 1,
   "eqLabelWithNumbers": true,
   "eqNumInitial": 1,
   "hotkeys": {
    "equation": "Ctrl-E",
    "itemize": "Ctrl-I"
   },
   "labels_anchors": false,
   "latex_user_defs": false,
   "report_style_numbering": false,
   "user_envs_cfg": false
  },
  "nteract": {
   "version": "0.8.4"
  }
 },
 "nbformat": 4,
 "nbformat_minor": 1
}
